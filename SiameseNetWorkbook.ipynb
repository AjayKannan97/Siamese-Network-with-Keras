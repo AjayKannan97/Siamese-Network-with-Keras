{
  "nbformat": 4,
  "nbformat_minor": 0,
  "metadata": {
    "colab": {
      "name": "SiameseNetWorkbook",
      "provenance": [],
      "collapsed_sections": []
    },
    "kernelspec": {
      "name": "python3",
      "display_name": "Python 3"
    },
    "language_info": {
      "name": "python"
    },
    "accelerator": "GPU"
  },
  "cells": [
    {
      "cell_type": "markdown",
      "metadata": {
        "id": "d0XUrz_o8XDA"
      },
      "source": [
        "In the Siamese Network, I used one such methodology. \n",
        "The model is trained with convolutional neural network with RMSprop as an optimiser to update the parameters of all the layers using back propagation for both the lines.\n",
        "\n",
        "Two dataset have been worked out.\n",
        "\n",
        "Triplet Loss -\n",
        "\n",
        "1. 20 alphabets - train & other 6 test - Vertical Split\n",
        "\n",
        "    Acc - test: 70.42378917378917 (for test set) \n",
        "    - \n",
        "    Positive similarity: 0.20598295 -\n",
        "    Negative similarity 0.18979926 (for training set)\n",
        "\n",
        "2. 26 alphabets - train & test - Horizontal Split\n",
        "\n",
        "    Acc - test: 72.06604409357851 (for test set) \n",
        "    - Positive similarity: 0.2059852 -\n",
        "    Negative similarity 0.189592 (for training set)\n",
        "\n",
        "Contrastive Loss -\n",
        "\n",
        "1. 20 alphabets - train & other 6 test - Vertical Split\n",
        "\n",
        "    Acc - test: 95.40242165242165 (for test set) \n",
        "    - Positive similarity: 0.20598295 -\n",
        "    Negative similarity 0.18979926 (for training set)\n",
        "\n",
        "2. 26 alphabets - train & test - Horizontal Split\n",
        "\n",
        "    Acc - test: 95.51121594300568 (for test set) \n",
        "    - Positive similarity: 0.2059852 - \n",
        "    Negative similarity 0.18961547 (for training set)"
      ]
    },
    {
      "cell_type": "code",
      "metadata": {
        "colab": {
          "base_uri": "https://localhost:8080/"
        },
        "id": "Kil-QPu3nDTt",
        "outputId": "60fc3804-b1a5-42c7-f8bf-18109b9ce423"
      },
      "source": [
        "import keras\n",
        "from __future__ import absolute_import\n",
        "from __future__ import print_function\n",
        "import numpy as np\n",
        "import tensorflow as tf\n",
        "import random\n",
        "from torchvision.datasets import EMNIST\n",
        "from keras.models import Model\n",
        "from keras.layers import Input, Flatten, Dense, Dropout, Lambda\n",
        "from keras.layers import Conv2D, Activation,AveragePooling2D\n",
        "from keras.optimizers import RMSprop\n",
        "from keras import backend as K\n",
        "import matplotlib.pyplot as plt\n",
        "from PIL import Image\n",
        "\n",
        "!pip install -U tensorflow-addons\n",
        "import tensorflow_addons as tfa\n"
      ],
      "execution_count": 107,
      "outputs": [
        {
          "output_type": "stream",
          "text": [
            "Requirement already satisfied: tensorflow-addons in /usr/local/lib/python3.7/dist-packages (0.13.0)\n",
            "Requirement already satisfied: typeguard>=2.7 in /usr/local/lib/python3.7/dist-packages (from tensorflow-addons) (2.7.1)\n"
          ],
          "name": "stdout"
        }
      ]
    },
    {
      "cell_type": "code",
      "metadata": {
        "colab": {
          "base_uri": "https://localhost:8080/"
        },
        "id": "9O9TUXf0uy2l",
        "outputId": "93032737-f06e-4cd2-f44d-ed2374786557"
      },
      "source": [
        "# the data, split between train and test sets\n",
        "\n",
        "dataset = EMNIST(root=\"data/\", split=\"letters\", download=True, train=True, )                \n",
        "test_dataset = EMNIST(root=\"data/\", split=\"letters\", download=True, train=False, )\n",
        "\n",
        "print(\"EMNIST dataset:\", len(dataset) + len(test_dataset))\n",
        "print(\"Training dataset:    \",len(dataset))\n",
        "print(\"Testing dataset:     \",len(test_dataset))\n",
        "\n",
        "l = dataset.classes\n",
        "l.sort()\n",
        "print(\"No of classes: \",len(l))\n",
        "print(\"List of all classes\")\n",
        "print(l)\n",
        "\n",
        "(x_train, y_train), (x_test, y_test) = (dataset.train_data,dataset.train_labels),(test_dataset.test_data,test_dataset.test_labels)\n",
        "#load_data()\n",
        "\n"
      ],
      "execution_count": 135,
      "outputs": [
        {
          "output_type": "stream",
          "text": [
            "EMNIST dataset: 145600\n",
            "Training dataset:     124800\n",
            "Testing dataset:      20800\n",
            "No of classes:  27\n",
            "List of all classes\n",
            "['N/A', 'a', 'b', 'c', 'd', 'e', 'f', 'g', 'h', 'i', 'j', 'k', 'l', 'm', 'n', 'o', 'p', 'q', 'r', 's', 't', 'u', 'v', 'w', 'x', 'y', 'z']\n"
          ],
          "name": "stdout"
        },
        {
          "output_type": "stream",
          "text": [
            "/usr/local/lib/python3.7/dist-packages/torchvision/datasets/mnist.py:62: UserWarning: train_data has been renamed data\n",
            "  warnings.warn(\"train_data has been renamed data\")\n",
            "/usr/local/lib/python3.7/dist-packages/torchvision/datasets/mnist.py:52: UserWarning: train_labels has been renamed targets\n",
            "  warnings.warn(\"train_labels has been renamed targets\")\n",
            "/usr/local/lib/python3.7/dist-packages/torchvision/datasets/mnist.py:67: UserWarning: test_data has been renamed data\n",
            "  warnings.warn(\"test_data has been renamed data\")\n",
            "/usr/local/lib/python3.7/dist-packages/torchvision/datasets/mnist.py:57: UserWarning: test_labels has been renamed targets\n",
            "  warnings.warn(\"test_labels has been renamed targets\")\n"
          ],
          "name": "stderr"
        }
      ]
    },
    {
      "cell_type": "code",
      "metadata": {
        "colab": {
          "base_uri": "https://localhost:8080/"
        },
        "id": "4sy8kKctvcD2",
        "outputId": "0ab6b8ac-90e9-4479-c05c-e5b7056e4ca3"
      },
      "source": [
        "np.shape(y_train)"
      ],
      "execution_count": 136,
      "outputs": [
        {
          "output_type": "execute_result",
          "data": {
            "text/plain": [
              "torch.Size([124800])"
            ]
          },
          "metadata": {
            "tags": []
          },
          "execution_count": 136
        }
      ]
    },
    {
      "cell_type": "code",
      "metadata": {
        "colab": {
          "base_uri": "https://localhost:8080/"
        },
        "id": "u87MNdzWu4g0",
        "outputId": "8b6d6377-b52e-4883-e9b1-c0f63eecb8c9"
      },
      "source": [
        "# preprocessing \n",
        "\n",
        "x_train = np.array(x_train.reshape(x_train.shape[0], 28, 28, 1))\n",
        "x_test = np.array(x_test.reshape(x_test.shape[0], 28, 28, 1))\n",
        "# input_shape = (1, 28, 28)\n",
        "print(x_train.shape)\n",
        "x_train = x_train.astype('float32')\n",
        "x_test = x_test.astype('float32')\n",
        "x_train /= 255\n",
        "x_test /= 255\n",
        "\n",
        "input_shape = x_train.shape[1:]\n",
        "#input_shape = (28, 28, 1)\n"
      ],
      "execution_count": 137,
      "outputs": [
        {
          "output_type": "stream",
          "text": [
            "(124800, 28, 28, 1)\n"
          ],
          "name": "stdout"
        }
      ]
    },
    {
      "cell_type": "code",
      "metadata": {
        "colab": {
          "base_uri": "https://localhost:8080/"
        },
        "id": "bI9k5-hHqqxv",
        "outputId": "28dc2f75-b8e0-45c4-f559-30717bb4d534"
      },
      "source": [
        "# This cell must be activated for 20 train - 6 test dataset.\n",
        "\n",
        "Xtr = x_train[:int(20/26*len(x_train))]\n",
        "Ytr = y_train[:int(20/26*len(y_train))]\n",
        "Xte = x_train[int(20/26*len(y_train)):]\n",
        "Yte = y_train[int(20/26*len(y_train)):]\n",
        "x_train = Xtr\n",
        "y_train = Ytr\n",
        "x_test = Xte\n",
        "y_test = Yte\n",
        "print(np.shape(x_train))"
      ],
      "execution_count": 134,
      "outputs": [
        {
          "output_type": "stream",
          "text": [
            "(96000, 28, 28, 1)\n"
          ],
          "name": "stdout"
        }
      ]
    },
    {
      "cell_type": "code",
      "metadata": {
        "id": "tWo2Es9QufZq"
      },
      "source": [
        "# Network parameters\n",
        "\n",
        "num_classes = 26\n",
        "epochs = 10\n"
      ],
      "execution_count": 138,
      "outputs": []
    },
    {
      "cell_type": "code",
      "metadata": {
        "id": "MkMgDfPsujNh"
      },
      "source": [
        "# Func which help\n",
        "\n",
        "def euclid_dis(vects):\n",
        "  x,y = vects\n",
        "  sum_square = K.sum(K.square(x-y), axis=1, keepdims=True)\n",
        "  return K.sqrt(K.maximum(sum_square, K.epsilon()))\n",
        "\n",
        "def eucl_dist_output_shape(shapes):\n",
        "    shape1, shape2 = shapes\n",
        "    return (shape1[0], 1)\n",
        "\n",
        "def triplet_loss(y_true, y_pred):\n",
        "    return tfa.losses.triplet_semihard_loss(y_true, y_pred) \n",
        "    \n",
        "def contrastive_loss(y_true, y_pred):\n",
        "    margin = 1\n",
        "    square_pred = K.square(y_pred)\n",
        "    margin_square = K.square(K.maximum(margin - y_pred, 0))\n",
        "    return K.mean(y_true * square_pred + (1 - y_true) * margin_square)\n",
        "\n",
        "def create_pairs(x, alpha_indices):\n",
        "  pairs = []\n",
        "  labels = []\n",
        "  n = min([len(alpha_indices[d]) for d in range(num_classes)]) - 1\n",
        "  print(n)\n",
        "  for d in range(num_classes):\n",
        "    for i in range(n):\n",
        "      z1, z2 = alpha_indices[d][i], alpha_indices[d][i+1]\n",
        "      pairs += [[x[z1], x[z2]]]\n",
        "      inc = random.randrange(1, num_classes)\n",
        "      dn = (d + inc) % num_classes\n",
        "      z1, z2 = alpha_indices[d][i], alpha_indices[dn][i]\n",
        "      pairs += [[x[z1], x[z2]]]\n",
        "      labels += [1,0]\n",
        "  print(len(labels))\n",
        "  return np.array(pairs), np.array(labels)\n"
      ],
      "execution_count": 139,
      "outputs": []
    },
    {
      "cell_type": "code",
      "metadata": {
        "id": "7Ss0krdVurkX"
      },
      "source": [
        "# Siamese Net \n",
        "# Conv Net with 3 layers of Convolutions and \n",
        "\n",
        "def create_base_net(input_shape):\n",
        "  \n",
        "  input = Input(shape = input_shape)\n",
        "  x = Conv2D(4, (5,5), activation = 'relu')(input)\n",
        "  x = AveragePooling2D(pool_size = (2,2))(x)\n",
        "  x = Conv2D(8, (5,5), activation = 'relu')(input)\n",
        "  x = AveragePooling2D(pool_size = (2,2))(x)\n",
        "  x = Conv2D(16, (5,5), activation = 'tanh')(x)\n",
        "  x = AveragePooling2D(pool_size = (2,2))(x)\n",
        "  x = Flatten()(x)\n",
        "  x = Dense(128, activation = 'tanh')(x)\n",
        "  x = Dense(26, activation = 'sigmoid')(x)\n",
        "  model = Model(input, x)\n",
        "  model.summary()\n",
        "  return model\n",
        "\n",
        "def compute_accuracy(y_true, y_pred):\n",
        "    '''Compute classification accuracy with a fixed threshold on distances.\n",
        "    '''\n",
        "    pred = y_pred.ravel() < 0.5\n",
        "    return np.mean(pred == y_true)\n",
        "\n",
        "\n",
        "def accuracy(y_true, y_pred):\n",
        "    '''Compute classification accuracy with a fixed threshold on distances.\n",
        "    '''\n",
        "    return K.mean(K.equal(y_true, K.cast(y_pred < 0.5, y_true.dtype)))\n",
        "\n"
      ],
      "execution_count": 140,
      "outputs": []
    },
    {
      "cell_type": "code",
      "metadata": {
        "colab": {
          "base_uri": "https://localhost:8080/"
        },
        "id": "guaDy0Nou6_X",
        "outputId": "b8f9074c-450b-4990-fcf6-4465fa0d3ce1"
      },
      "source": [
        "# create training+test positive and negative pairs\n",
        "alpha_indices = [np.where(y_train == i)[0] for i in range(1,27)]\n",
        "print(np.shape(alpha_indices))\n",
        "tr_pairs, tr_y = create_pairs(x_train, alpha_indices)\n",
        "tr_y = tr_y.astype('float32')\n",
        "\n",
        "alpha_indices = [np.where(y_test == i)[0] for i in range(1,27)]\n",
        "te_pairs, te_y = create_pairs(x_test, alpha_indices)\n",
        "te_y = te_y.astype('float32')\n",
        "#print(np.shape(tr_pairs), np.shape(tr_y),np.shape(te_pairs), np.shape(te_y))\n",
        "#print((np.array(tr_pairs[0])))"
      ],
      "execution_count": 141,
      "outputs": [
        {
          "output_type": "stream",
          "text": [
            "(26, 4800)\n",
            "4799\n",
            "249548\n",
            "799\n",
            "41548\n"
          ],
          "name": "stdout"
        }
      ]
    },
    {
      "cell_type": "code",
      "metadata": {
        "colab": {
          "base_uri": "https://localhost:8080/"
        },
        "id": "oJs96xC_BHlR",
        "outputId": "6fee9726-2e18-4b52-d173-e5af086a8f60"
      },
      "source": [
        "print(np.shape(tr_pairs))\n",
        "print(np.shape(tr_y))\n",
        "print(np.shape(te_pairs))\n",
        "print(np.shape(te_y))\n",
        "#"
      ],
      "execution_count": 142,
      "outputs": [
        {
          "output_type": "stream",
          "text": [
            "(249548, 2, 28, 28, 1)\n",
            "(249548,)\n",
            "(41548, 2, 28, 28, 1)\n",
            "(41548,)\n"
          ],
          "name": "stdout"
        }
      ]
    },
    {
      "cell_type": "code",
      "metadata": {
        "colab": {
          "base_uri": "https://localhost:8080/"
        },
        "id": "u1u9DITkvA-j",
        "outputId": "adf81f77-8f7a-417b-cd09-e7f9b48d37bc"
      },
      "source": [
        "# network definition\n",
        "base_network = create_base_net(input_shape)\n",
        "\n",
        "input_a = Input(shape=input_shape)\n",
        "input_b = Input(shape=input_shape)\n",
        "\n",
        "processed_a = base_network(input_a)\n",
        "processed_b = base_network(input_b)\n",
        "\n",
        "distance = Lambda(euclid_dis,\n",
        "                  output_shape=eucl_dist_output_shape)([processed_a, processed_b])\n",
        "\n",
        "model = Model([input_a, input_b], distance)\n",
        "rms = RMSprop()\n",
        "model.compile(loss=triplet_loss, optimizer=rms, metrics=[accuracy])\n",
        "#model.compile(loss=contrastive_loss, optimizer=rms, metrics=[accuracy])"
      ],
      "execution_count": 145,
      "outputs": [
        {
          "output_type": "stream",
          "text": [
            "Model: \"model_22\"\n",
            "_________________________________________________________________\n",
            "Layer (type)                 Output Shape              Param #   \n",
            "=================================================================\n",
            "input_34 (InputLayer)        [(None, 28, 28, 1)]       0         \n",
            "_________________________________________________________________\n",
            "conv2d_34 (Conv2D)           (None, 24, 24, 8)         208       \n",
            "_________________________________________________________________\n",
            "average_pooling2d_34 (Averag (None, 12, 12, 8)         0         \n",
            "_________________________________________________________________\n",
            "conv2d_35 (Conv2D)           (None, 8, 8, 16)          3216      \n",
            "_________________________________________________________________\n",
            "average_pooling2d_35 (Averag (None, 4, 4, 16)          0         \n",
            "_________________________________________________________________\n",
            "flatten_11 (Flatten)         (None, 256)               0         \n",
            "_________________________________________________________________\n",
            "dense_22 (Dense)             (None, 128)               32896     \n",
            "_________________________________________________________________\n",
            "dense_23 (Dense)             (None, 26)                3354      \n",
            "=================================================================\n",
            "Total params: 39,674\n",
            "Trainable params: 39,674\n",
            "Non-trainable params: 0\n",
            "_________________________________________________________________\n"
          ],
          "name": "stdout"
        }
      ]
    },
    {
      "cell_type": "code",
      "metadata": {
        "colab": {
          "base_uri": "https://localhost:8080/"
        },
        "id": "CKnxmMVRvGj5",
        "outputId": "beb31658-af81-4ac7-9469-bf75479fc8e3"
      },
      "source": [
        "# train\n",
        "model.fit([tr_pairs[:, 0], tr_pairs[:, 1]], tr_y, batch_size = 128, epochs=epochs)\n"
      ],
      "execution_count": 146,
      "outputs": [
        {
          "output_type": "stream",
          "text": [
            "Epoch 1/10\n",
            "1950/1950 [==============================] - 24s 11ms/step - loss: 0.9521 - accuracy: 0.5728\n",
            "Epoch 2/10\n",
            "1950/1950 [==============================] - 22s 11ms/step - loss: 0.8103 - accuracy: 0.5767\n",
            "Epoch 3/10\n",
            "1950/1950 [==============================] - 22s 11ms/step - loss: 0.7179 - accuracy: 0.6071\n",
            "Epoch 4/10\n",
            "1950/1950 [==============================] - 22s 11ms/step - loss: 0.6549 - accuracy: 0.6310\n",
            "Epoch 5/10\n",
            "1950/1950 [==============================] - 22s 11ms/step - loss: 0.6048 - accuracy: 0.6516\n",
            "Epoch 6/10\n",
            "1950/1950 [==============================] - 22s 11ms/step - loss: 0.5735 - accuracy: 0.6670\n",
            "Epoch 7/10\n",
            "1950/1950 [==============================] - 22s 11ms/step - loss: 0.5469 - accuracy: 0.6799\n",
            "Epoch 8/10\n",
            "1950/1950 [==============================] - 22s 11ms/step - loss: 0.5199 - accuracy: 0.6919\n",
            "Epoch 9/10\n",
            "1950/1950 [==============================] - 22s 11ms/step - loss: 0.4974 - accuracy: 0.7004\n",
            "Epoch 10/10\n",
            "1950/1950 [==============================] - 22s 11ms/step - loss: 0.4852 - accuracy: 0.7032\n"
          ],
          "name": "stdout"
        },
        {
          "output_type": "execute_result",
          "data": {
            "text/plain": [
              "<keras.callbacks.History at 0x7ff3c31f11d0>"
            ]
          },
          "metadata": {
            "tags": []
          },
          "execution_count": 146
        }
      ]
    },
    {
      "cell_type": "code",
      "metadata": {
        "colab": {
          "base_uri": "https://localhost:8080/"
        },
        "id": "o7IGbMQ_vK3-",
        "outputId": "95f5e5e4-91ed-4d2b-a669-32ca58ca27c5"
      },
      "source": [
        "# compute final accuracy on test set\n",
        "y_pred = model.predict([te_pairs[:, 0], te_pairs[:, 1]])\n",
        "te_acc = compute_accuracy(te_y, y_pred)\n",
        "print('Acc - test: ' + str(100 * te_acc))\n"
      ],
      "execution_count": 147,
      "outputs": [
        {
          "output_type": "stream",
          "text": [
            "Acc - test: 70.28978530855878\n"
          ],
          "name": "stdout"
        }
      ]
    },
    {
      "cell_type": "code",
      "metadata": {
        "colab": {
          "base_uri": "https://localhost:8080/",
          "height": 266
        },
        "id": "VcGEK_jQrDUh",
        "outputId": "efa96407-a668-4469-a229-efb6ee8b2432"
      },
      "source": [
        "number_of_items = 5\n",
        "\n",
        "plt.figure(figsize=(10, 5))\n",
        "for item in range(number_of_items):\n",
        "    display = plt.subplot(1, number_of_items,item+1)\n",
        "    im = tf.keras.preprocessing.image.array_to_img( te_pairs[item,0], data_format=None, scale=True,dtype=None)\n",
        "    plt.imshow(im, cmap=\"gray\")\n",
        "    display.get_xaxis().set_visible(False)\n",
        "    display.get_yaxis().set_visible(False)\n",
        "plt.show()\n",
        "\n",
        "plt.figure(figsize=(10, 5))\n",
        "for item in range(number_of_items):\n",
        "    display = plt.subplot(1, number_of_items,item+1)\n",
        "    im = tf.keras.preprocessing.image.array_to_img( te_pairs[item,1], data_format=None, scale=True,dtype=None)\n",
        "    plt.imshow(im, cmap=\"gray\")\n",
        "    display.get_xaxis().set_visible(False)\n",
        "    display.get_yaxis().set_visible(False)\n",
        "plt.show()"
      ],
      "execution_count": 148,
      "outputs": [
        {
          "output_type": "display_data",
          "data": {
            "image/png": "[encoded data removed]",
            "text/plain": [
              "<Figure size 720x360 with 5 Axes>"
            ]
          },
          "metadata": {
            "tags": [],
            "needs_background": "light"
          }
        },
        {
          "output_type": "display_data",
          "data": {
            "image/png": "[encoded data removed]",
            "text/plain": [
              "<Figure size 720x360 with 5 Axes>"
            ]
          },
          "metadata": {
            "tags": [],
            "needs_background": "light"
          }
        }
      ]
    },
    {
      "cell_type": "code",
      "metadata": {
        "colab": {
          "base_uri": "https://localhost:8080/"
        },
        "id": "3D0oBIl16rhs",
        "outputId": "da921669-0663-4326-f4f8-07af71950604"
      },
      "source": [
        "# Cosine Similarity \n",
        "\n",
        "pos, neg = [], []\n",
        "for index in range(len(tr_pairs)):\n",
        "  if tr_y[index] == 1:\n",
        "    pos.append(tr_pairs[index])\n",
        "  else:\n",
        "    neg.append(tr_pairs[index])\n",
        "pos = np.array(pos)\n",
        "neg = np.array(neg)\n",
        "print(np.shape(pos))\n",
        "print(np.shape(neg))\n",
        "np.shape(tr_y)"
      ],
      "execution_count": 149,
      "outputs": [
        {
          "output_type": "stream",
          "text": [
            "(124774, 2, 28, 28, 1)\n",
            "(124774, 2, 28, 28, 1)\n"
          ],
          "name": "stdout"
        },
        {
          "output_type": "execute_result",
          "data": {
            "text/plain": [
              "(249548,)"
            ]
          },
          "metadata": {
            "tags": []
          },
          "execution_count": 149
        }
      ]
    },
    {
      "cell_type": "code",
      "metadata": {
        "colab": {
          "base_uri": "https://localhost:8080/"
        },
        "id": "zRSbSI4SQIAd",
        "outputId": "8b9dd897-1101-454d-a8bd-a00821b1d086"
      },
      "source": [
        "cosine_similarity = tf.keras.metrics.CosineSimilarity()\n",
        "\n",
        "positive_similarity = cosine_similarity(pos[:, 0], pos[:, 1])\n",
        "print(\"Positive similarity:\", positive_similarity.numpy())\n",
        "\n",
        "negative_similarity = cosine_similarity(neg[:, 0], neg[:, 1])\n",
        "print(\"Negative similarity\", negative_similarity.numpy())"
      ],
      "execution_count": 150,
      "outputs": [
        {
          "output_type": "stream",
          "text": [
            "Positive similarity: 0.2059852\n",
            "Negative similarity 0.189592\n"
          ],
          "name": "stdout"
        }
      ]
    },
    {
      "cell_type": "code",
      "metadata": {
        "colab": {
          "base_uri": "https://localhost:8080/"
        },
        "id": "i-XW2UtZxEWo",
        "outputId": "e08fddb1-86d4-46e0-e2c7-a43a39100109"
      },
      "source": [
        "tr_y"
      ],
      "execution_count": 151,
      "outputs": [
        {
          "output_type": "execute_result",
          "data": {
            "text/plain": [
              "array([1., 0., 1., ..., 0., 1., 0.], dtype=float32)"
            ]
          },
          "metadata": {
            "tags": []
          },
          "execution_count": 151
        }
      ]
    },
    {
      "cell_type": "code",
      "metadata": {
        "id": "xUsJ7so86lCK"
      },
      "source": [
        ""
      ],
      "execution_count": 151,
      "outputs": []
    }
  ]
}